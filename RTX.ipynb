{
  "nbformat": 4,
  "nbformat_minor": 0,
  "metadata": {
    "colab": {
      "provenance": []
    },
    "kernelspec": {
      "name": "python3",
      "display_name": "Python 3"
    },
    "language_info": {
      "name": "python"
    },
    "gpuClass": "standard"
  },
  "cells": [
    {
      "cell_type": "markdown",
      "source": [
        "# Sprawozdanie z zajęć nr 9\n",
        "### Mateusz Stelmaszek\n",
        "### 80275"
      ],
      "metadata": {
        "id": "o32ojn4dgFGS"
      }
    },
    {
      "cell_type": "markdown",
      "source": [
        "# Przygotowujemy środowisko !"
      ],
      "metadata": {
        "id": "X-rOhReugG04"
      }
    },
    {
      "cell_type": "markdown",
      "source": [
        "# Należy pamiętać, aby podczas kompilowania kodu GPU zmienić środowisko!\n",
        "    Środowisko wykonawcze -> Zmień typ środowiska wykonawczego -> GPU"
      ],
      "metadata": {
        "id": "k6G98IX1gXGJ"
      }
    },
    {
      "cell_type": "code",
      "execution_count": 2,
      "metadata": {
        "colab": {
          "base_uri": "https://localhost:8080/"
        },
        "id": "pb9FGSLEf5eh",
        "outputId": "e1da182c-b6fe-486a-aadb-31f30f502c6e"
      },
      "outputs": [
        {
          "output_type": "stream",
          "name": "stdout",
          "text": [
            "nvcc: NVIDIA (R) Cuda compiler driver\n",
            "Copyright (c) 2005-2021 NVIDIA Corporation\n",
            "Built on Sun_Feb_14_21:12:58_PST_2021\n",
            "Cuda compilation tools, release 11.2, V11.2.152\n",
            "Build cuda_11.2.r11.2/compiler.29618528_0\n",
            "Looking in indexes: https://pypi.org/simple, https://us-python.pkg.dev/colab-wheels/public/simple/\n",
            "Collecting git+https://github.com/andreinechaev/nvcc4jupyter.git\n",
            "  Cloning https://github.com/andreinechaev/nvcc4jupyter.git to /tmp/pip-req-build-i6q1v4wy\n",
            "  Running command git clone --filter=blob:none --quiet https://github.com/andreinechaev/nvcc4jupyter.git /tmp/pip-req-build-i6q1v4wy\n",
            "  Resolved https://github.com/andreinechaev/nvcc4jupyter.git to commit aac710a35f52bb78ab34d2e52517237941399eff\n",
            "  Preparing metadata (setup.py) ... \u001b[?25l\u001b[?25hdone\n",
            "Building wheels for collected packages: NVCCPlugin\n",
            "  Building wheel for NVCCPlugin (setup.py) ... \u001b[?25l\u001b[?25hdone\n",
            "  Created wheel for NVCCPlugin: filename=NVCCPlugin-0.0.2-py3-none-any.whl size=4304 sha256=4959a2fd8a303f5eadddb4e958e5f6b70028e790a6e97c98387664c9ca77aa01\n",
            "  Stored in directory: /tmp/pip-ephem-wheel-cache-a2j3gy_f/wheels/f3/08/cc/e2b5b0e1c92df07dbb50a6f024a68ce090f5e7b2316b41756d\n",
            "Successfully built NVCCPlugin\n",
            "Installing collected packages: NVCCPlugin\n",
            "Successfully installed NVCCPlugin-0.0.2\n",
            "created output directory at /content/src\n",
            "Out bin /content/result.out\n"
          ]
        }
      ],
      "source": [
        "!nvcc --version\n",
        "!pip install git+https://github.com/andreinechaev/nvcc4jupyter.git\n",
        "%load_ext nvcc_plugin"
      ]
    },
    {
      "cell_type": "markdown",
      "source": [
        "# CPU - procesor \n",
        "# GPU - karta graficzna\n",
        "# Poznajmy podstawy które są zastosowane w programach !\n",
        "\n",
        "1. %%cu - pozwala na kompilowanie poniższych kodów CUDA w środowisku GoogleCollab\n",
        "2. Struct Sphere to struktura reprezętująca kulę w przestrzeni 3D \n",
        "3. Dzięki pętli (if) w tej strukturze sprawdzamy poprzez warunek dxdx + dydy < radius*radius czy promień kuli jest większy niż odległość piksela or środka a prawda tego założenia oznacza to że promień przecina się z kulą.\n",
        "4. Wysokość przecięcia promienia z kulą oznaczona jest poprzez zmienną dz.\n",
        "4. Kąt padania promienia na kulę przypisanny jest do wskaźnika czyli wskazania na jakąś zmienną wskaźnik ten oznaczono jako n \n",
        "5. Można wywnioskować że w wyniku kompilacji programu otrzymamy wartość oznaczającą wysokość przecięcia promienia z kulą \n",
        "6. Jest również możliwość że takowe przecięcie nie istnieje, gdyż promień nie przecina się z kulą w żadnym punkcie wtedy program zwróci odpowienio wartość -INF abyśmy o tym wiedzieli\n"
      ],
      "metadata": {
        "id": "9AsDqOfOgZTs"
      }
    },
    {
      "cell_type": "markdown",
      "source": [
        "# GPU - karta graficzna\n"
      ],
      "metadata": {
        "id": "g9aDEZ6qgbD2"
      }
    },
    {
      "cell_type": "code",
      "source": [
        "%%cu\n",
        "#include <stdio.h>\n",
        "#define DIM 8000\n",
        "#define rnd( x ) (x * rand() / RAND_MAX)\n",
        "#define INF     2e10f\n",
        "struct Sphere {\n",
        "    float   r,b,g;\n",
        "    float   radius;\n",
        "    float   x,y,z;\n",
        "    __device__ float hit( float ox, float oy, float *n ) {\n",
        "        float dx = ox - x;\n",
        "        float dy = oy - y;\n",
        "        if (dx*dx + dy*dy < radius*radius) {\n",
        "            float dz = sqrtf( radius*radius - dx*dx - dy*dy );\n",
        "            *n = dz / sqrtf( radius * radius );\n",
        "            return dz + z;\n",
        "        }\n",
        "        return -INF;\n",
        "    }\n",
        "};\n",
        "#define SPHERES 20\n",
        "__global__ void kernel( Sphere *s, unsigned char *ptr ) {\n",
        "    // map from threadIdx/BlockIdx to pixel position\n",
        "    int x = threadIdx.x + blockIdx.x * blockDim.x;\n",
        "    int y = threadIdx.y + blockIdx.y * blockDim.y;\n",
        "    int offset = x + y * blockDim.x * gridDim.x;\n",
        "    float   x1 = (x - DIM/2);\n",
        "    float   y1 = (y - DIM/2);\n",
        "    float   r=0, g=0, b=0;\n",
        "    float   maxz = -INF;\n",
        "    for(int i=0; i<SPHERES; i++) {\n",
        "        float   n;\n",
        "        float   t = s[i].hit( x1, y1, &n );\n",
        "        if (t > maxz) {\n",
        "            float fscale = n;\n",
        "            r = s[i].r * fscale;\n",
        "            g = s[i].g * fscale;\n",
        "            b = s[i].b * fscale;\n",
        "            maxz = t;\n",
        "        }\n",
        "    } \n",
        "    ptr[offset*4 + 0] = (int)(r * 255);\n",
        "    ptr[offset*4 + 1] = (int)(g * 255);\n",
        "    ptr[offset*4 + 2] = (int)(b * 255);\n",
        "    ptr[offset*4 + 3] = 255;\n",
        "}\n",
        "struct DataBlock{\n",
        "    unsigned char *dev_bitmap;\n",
        "};\n",
        "void save_to_file(unsigned char *ptr){\n",
        "  FILE *fp=fopen(\"RTXCPU.ppm\",\"w\");\n",
        "  fprintf(fp,\"P3\\n%d %d\\n255\\n\", DIM, DIM);\n",
        "  for(int y=0;y<DIM;y++){\n",
        "    for(int x=0;x<DIM;x++){\n",
        "      int offset=x+y*DIM;\n",
        "      fprintf(fp,\"\\n%d %d %d\", ptr[offset*4+0], ptr[offset*4+1], ptr[offset*4+2]);\n",
        "    }\n",
        "  }\n",
        "  fclose(fp);\n",
        "}\n",
        "int main(void) {\n",
        "    FILE *fp = fopen(\"czasgpu8000.txt\", \"w\");\n",
        "  // capture the start time \n",
        "  cudaEvent_t start, stop;\n",
        "  cudaEventCreate( &start );\n",
        "  cudaEventCreate( &stop);\n",
        "  DataBlock data;\n",
        "  unsigned char *bitmap = (unsigned char*)malloc(DIM* DIM*4* sizeof(unsigned char));\n",
        "  int image_size = DIM* DIM*4;\n",
        "  unsigned char *dev_bitmap;\n",
        "\n",
        "  cudaMalloc((void**)&dev_bitmap, image_size); \n",
        "  data.dev_bitmap=dev_bitmap;\n",
        "  Sphere *s;\n",
        "// allocate memory for the Sphere dataset\n",
        "cudaMalloc((void**)&s, sizeof(Sphere)* SPHERES );\n",
        "// allocate temp memory, initialize it, copy to\n",
        "// memory on the GPU, then free our temp memory\n",
        "Sphere *temp_s = (Sphere*)malloc(sizeof(Sphere)* SPHERES );\n",
        "for (int i=0; i<SPHERES; i++) {\n",
        "     temp_s[i].r = rnd( 1.0f);\n",
        "     temp_s[i].g= rnd( 1.0f);\n",
        "     temp_s[1].b= rnd( 1.0f);\n",
        "     temp_s[i].x =rnd( 1000.0f)- 500;\n",
        "     temp_s[i].y =rnd( 1000.0f) - 500;\n",
        "     temp_s[1].z = rnd( 1000.0f) - 500;\n",
        "     temp_s[i].radius = rnd( 100.0f) + 20;\n",
        "     cudaMemcpy( s, temp_s, sizeof(Sphere)* SPHERES, cudaMemcpyHostToDevice);\n",
        "     free( temp_s);\n",
        "}\n",
        "dim3 block(16, 16);\n",
        "dim3 grid((DIM + block.x - 1) / block.x, (DIM + block.y - 1) / block.y);\n",
        "// pobierz czas startu \n",
        "cudaEventRecord( start, 0);\n",
        "// kernel\n",
        "kernel<<<grid, block>>>(s, dev_bitmap);\n",
        "// pobierz czas zatrzymania\n",
        "cudaEventRecord( stop, 0);\n",
        "cudaEventSynchronize(stop);\n",
        "float elapsedTime;\n",
        "cudaEventElapsedTime(&elapsedTime, start, stop);\n",
        "cudaMemcpy( bitmap, dev_bitmap, image_size, cudaMemcpyDeviceToHost);\n",
        "printf(\"czas: %f s\\n\", elapsedTime);\n",
        "float elapsed_time;\n",
        "cudaEventElapsedTime(&elapsed_time, start, stop);\n",
        "printf(\"czas: %.3f ms\\n\", elapsed_time);\n",
        "fprintf(fp, \"%f\\n\", elapsedTime);\n",
        "    fclose(fp);\n",
        "save_to_file(bitmap);\n",
        "}"
      ],
      "metadata": {
        "colab": {
          "base_uri": "https://localhost:8080/"
        },
        "id": "FoQHcPbogb-c",
        "outputId": "5dc9e9fa-dfeb-42d4-a398-8b177a1574a9"
      },
      "execution_count": 6,
      "outputs": [
        {
          "output_type": "stream",
          "name": "stdout",
          "text": [
            "czas: 20.545504 s\n",
            "czas: 20.546 ms\n",
            "\n"
          ]
        }
      ]
    },
    {
      "cell_type": "markdown",
      "source": [
        "# CPU \n",
        "    Różnica pomiędzy programami polega na tym że CPU nie wykorzystuje równoległości co wydłuża obliczenia, wykorzystano tutaj pętle zamiast bloków aby przejść po pikselach"
      ],
      "metadata": {
        "id": "Tw1m1Eq7gdNj"
      }
    },
    {
      "cell_type": "code",
      "source": [
        "%%cu\n",
        "#include <stdio.h>\n",
        "#define DIM 1000\n",
        "#define rnd( x ) (x * rand() / RAND_MAX)\n",
        "#define INF     2e10f\n",
        "struct Sphere {\n",
        "    float   r,b,g;\n",
        "    float   radius;\n",
        "    float   x,y,z;\n",
        "    float hit( float ox, float oy, float *n ) {\n",
        "        float dx = ox - x;\n",
        "        float dy = oy - y;\n",
        "        if (dx*dx + dy*dy < radius*radius) {\n",
        "            float dz = sqrtf( radius*radius - dx*dx - dy*dy );\n",
        "            *n = dz / sqrtf( radius * radius );\n",
        "            return dz + z;\n",
        "        }\n",
        "        return -INF;\n",
        "    }\n",
        "};\n",
        "#define SPHERES 20\n",
        "void kernel(Sphere *s, unsigned char *ptr) {\n",
        "  for (int y = 0; y < DIM; y++) {\n",
        "    for (int x = 0; x < DIM; x++) {\n",
        "      int offset = x + y * DIM;\n",
        "      float ox = (x - DIM / 2);\n",
        "      float oy = (y - DIM / 2);\n",
        "      float r = 0, g = 0, b = 0;\n",
        "      float maxz = -INF;\n",
        "      for (int i = 0; i < SPHERES; i++) {\n",
        "        float n;\n",
        "        float t = s[i].hit(ox, oy, &n);\n",
        "        if (t > maxz) {\n",
        "          float fscale = n;\n",
        "          r = s[i].r * fscale;\n",
        "          g = s[i].g * fscale;\n",
        "          b = s[i].b * fscale;\n",
        "          maxz = t;\n",
        "        }\n",
        "      }\n",
        "      ptr[offset * 4 + 0] = (int)(r * 255);\n",
        "      ptr[offset * 4 + 1] = (int)(g * 255);\n",
        "      ptr[offset * 4 + 2] = (int)(b * 255);\n",
        "      ptr[offset * 4 + 3] = 255;\n",
        "    }\n",
        "  }\n",
        "}\n",
        "struct DataBlock{\n",
        "    unsigned char *dev_bitmap;\n",
        "};\n",
        "void save_to_file(unsigned char *ptr){\n",
        "  FILE *fp=fopen(\"RTXGPU.ppm\",\"w\");\n",
        "  fprintf(fp,\"P3\\n%d %d\\n255\\n\", DIM, DIM);\n",
        "  for(int y=0;y<DIM;y++){\n",
        "    for(int x=0;x<DIM;x++){\n",
        "      int offset=x+y*DIM;\n",
        "      fprintf(fp,\"\\n%d %d %d\", ptr[offset*4+0], ptr[offset*4+1], ptr[offset*4+2]);\n",
        "    }\n",
        "  }\n",
        "  fclose(fp);\n",
        "}\n",
        "int main(void) {\n",
        "    FILE *fp = fopen(\"czascpu1000.txt\", \"w\");\n",
        "  // pobierz czas rozpoczęcia\n",
        "  clock_t start, stop;\n",
        "  start = clock();\n",
        "  // przyznanie pamięci dla Sphere\n",
        "  Sphere *s = (Sphere*)malloc(sizeof(Sphere)* SPHERES );\n",
        "  unsigned char *bitmap = (unsigned char*)malloc(DIM* DIM*4* sizeof(unsigned char));\n",
        "  // przyznanie tymczasowej pamięci a potem zwolnienie\n",
        "  Sphere *temp_s = (Sphere*)malloc(sizeof(Sphere)* SPHERES );\n",
        "  for (int i=0; i<SPHERES; i++) {\n",
        "    temp_s[i].r = rnd( 1.0f);\n",
        "     temp_s[i].g= rnd( 1.0f);\n",
        "     temp_s[1].b= rnd( 1.0f);\n",
        "     temp_s[i].x =rnd( 1000.0f)- 500;\n",
        "     temp_s[i].y =rnd( 1000.0f) - 500;\n",
        "     temp_s[1].z = rnd( 1000.0f) - 500;\n",
        "     temp_s[i].radius = rnd( 100.0f) + 20;\n",
        "  }\n",
        "  memcpy(s, temp_s, sizeof(Sphere)* SPHERES );\n",
        "  free(temp_s);\n",
        "  kernel(s, bitmap);\n",
        "  // pobranie momentu zatrzymania\n",
        "  stop = clock();\n",
        " printf(\"Time: %.7f seconds\\n\", ((double)(stop-start))/CLOCKS_PER_SEC);\n",
        " printf(\"Time: %.3f milliseconds\\n\", ((double)(stop-start))/CLOCKS_PER_SEC*1000);\n",
        " double czas = (((double)(stop-start))/CLOCKS_PER_SEC*1000);\n",
        " fprintf(fp, \"%f\\n\", czas);\n",
        "    fclose(fp);\n",
        "  // zapis do pliku\n",
        "  save_to_file(bitmap);\n",
        "  // wyczyszczenie pamięci\n",
        "  free(s);\n",
        "  return 0;\n",
        "\n",
        "}"
      ],
      "metadata": {
        "colab": {
          "base_uri": "https://localhost:8080/"
        },
        "id": "aKOUdPlHgeGW",
        "outputId": "8d3acfb5-16d2-423d-e186-6000d5cbe8ea"
      },
      "execution_count": 13,
      "outputs": [
        {
          "output_type": "stream",
          "name": "stdout",
          "text": [
            "Time: 0.2880890 seconds\n",
            "Time: 288.089 milliseconds\n",
            "\n"
          ]
        }
      ]
    },
    {
      "cell_type": "markdown",
      "source": [
        "# Porównanie"
      ],
      "metadata": {
        "id": "LJ5PEHFjghFk"
      }
    },
    {
      "cell_type": "code",
      "source": [
        "import matplotlib.pyplot as plt\n",
        "czasgpu = [1.280768,2.931680,7.887904,20.545504]\n",
        "czascpu = [288.089000,1542.343000,4264.234000,11113.377000]\n",
        "\n",
        "dokladnosc = [ 1000 ,3000 , 5000 , 8000]\n",
        "\n",
        "plt.plot(dokladnosc,czasgpu, label=\"GPU\")\n",
        "plt.plot(dokladnosc,czascpu, label=\"CPU\")\n",
        "plt.xlabel(\"dokladnosc\")\n",
        "plt.ylabel(\"Czas wykonywania(s)\")\n",
        "plt.legend()\n",
        "plt.show()"
      ],
      "metadata": {
        "colab": {
          "base_uri": "https://localhost:8080/",
          "height": 279
        },
        "id": "tSWBNx1Dgi4H",
        "outputId": "419b19ec-c34e-4afc-9cac-d06a77ea1862"
      },
      "execution_count": 14,
      "outputs": [
        {
          "output_type": "display_data",
          "data": {
            "text/plain": [
              "<Figure size 432x288 with 1 Axes>"
            ],
            "image/png": "[encoded data removed]"
          },
          "metadata": {
            "needs_background": "light"
          }
        }
      ]
    }
  ]
}