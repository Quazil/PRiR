{
  "nbformat": 4,
  "nbformat_minor": 0,
  "metadata": {
    "colab": {
      "provenance": []
    },
    "kernelspec": {
      "name": "python3",
      "display_name": "Python 3"
    },
    "language_info": {
      "name": "python"
    },
    "gpuClass": "standard",
    "accelerator": "GPU"
  },
  "cells": [
    {
      "cell_type": "markdown",
      "source": [
        "# Sprawozdanie z zajęć nr 10\n",
        "### Mateusz Stelmaszek\n",
        "### 80275"
      ],
      "metadata": {
        "id": "_n0rLHupBwxm"
      }
    },
    {
      "cell_type": "markdown",
      "source": [
        "# Przygotowujemy środowisko !"
      ],
      "metadata": {
        "id": "pbyRy-VtB07J"
      }
    },
    {
      "cell_type": "code",
      "execution_count": 2,
      "metadata": {
        "colab": {
          "base_uri": "https://localhost:8080/"
        },
        "id": "kxJ522abBkg6",
        "outputId": "7cc61845-5a4b-4105-8512-369246bd2055"
      },
      "outputs": [
        {
          "output_type": "stream",
          "name": "stdout",
          "text": [
            "nvcc: NVIDIA (R) Cuda compiler driver\n",
            "Copyright (c) 2005-2021 NVIDIA Corporation\n",
            "Built on Sun_Feb_14_21:12:58_PST_2021\n",
            "Cuda compilation tools, release 11.2, V11.2.152\n",
            "Build cuda_11.2.r11.2/compiler.29618528_0\n",
            "Looking in indexes: https://pypi.org/simple, https://us-python.pkg.dev/colab-wheels/public/simple/\n",
            "Collecting git+https://github.com/andreinechaev/nvcc4jupyter.git\n",
            "  Cloning https://github.com/andreinechaev/nvcc4jupyter.git to /tmp/pip-req-build-ua8eks3t\n",
            "  Running command git clone --filter=blob:none --quiet https://github.com/andreinechaev/nvcc4jupyter.git /tmp/pip-req-build-ua8eks3t\n",
            "  Resolved https://github.com/andreinechaev/nvcc4jupyter.git to commit aac710a35f52bb78ab34d2e52517237941399eff\n",
            "  Preparing metadata (setup.py) ... \u001b[?25l\u001b[?25hdone\n",
            "Building wheels for collected packages: NVCCPlugin\n",
            "  Building wheel for NVCCPlugin (setup.py) ... \u001b[?25l\u001b[?25hdone\n",
            "  Created wheel for NVCCPlugin: filename=NVCCPlugin-0.0.2-py3-none-any.whl size=4304 sha256=0dbdfacf90db80b4c905f653a7b230fc0c52a522fc477ef5431dd57b7d21f148\n",
            "  Stored in directory: /tmp/pip-ephem-wheel-cache-3nli1jko/wheels/f3/08/cc/e2b5b0e1c92df07dbb50a6f024a68ce090f5e7b2316b41756d\n",
            "Successfully built NVCCPlugin\n",
            "Installing collected packages: NVCCPlugin\n",
            "Successfully installed NVCCPlugin-0.0.2\n",
            "created output directory at /content/src\n",
            "Out bin /content/result.out\n"
          ]
        }
      ],
      "source": [
        "!nvcc --version\n",
        "!pip install git+https://github.com/andreinechaev/nvcc4jupyter.git\n",
        "%load_ext nvcc_plugin"
      ]
    },
    {
      "cell_type": "code",
      "source": [
        "!apt-get install gnuplot\n",
        "!pip install matplotlib"
      ],
      "metadata": {
        "colab": {
          "base_uri": "https://localhost:8080/"
        },
        "id": "L4bdDvW7B5l6",
        "outputId": "18768c73-4724-4429-e4f0-103666bf70cb"
      },
      "execution_count": 3,
      "outputs": [
        {
          "output_type": "stream",
          "name": "stdout",
          "text": [
            "Reading package lists... Done\n",
            "Building dependency tree       \n",
            "Reading state information... Done\n",
            "The following additional packages will be installed:\n",
            "  aglfn gnuplot-data gnuplot-qt liblua5.3-0 libqt5svg5 libwxbase3.0-0v5\n",
            "  libwxgtk3.0-gtk3-0v5\n",
            "Suggested packages:\n",
            "  gnuplot-doc\n",
            "The following NEW packages will be installed:\n",
            "  aglfn gnuplot gnuplot-data gnuplot-qt liblua5.3-0 libqt5svg5\n",
            "  libwxbase3.0-0v5 libwxgtk3.0-gtk3-0v5\n",
            "0 upgraded, 8 newly installed, 0 to remove and 23 not upgraded.\n",
            "Need to get 6,713 kB of archives.\n",
            "After this operation, 25.9 MB of additional disk space will be used.\n",
            "Get:1 http://archive.ubuntu.com/ubuntu focal/universe amd64 libqt5svg5 amd64 5.12.8-0ubuntu1 [131 kB]\n",
            "Get:2 http://archive.ubuntu.com/ubuntu focal/universe amd64 aglfn all 1.7+git20191031.4036a9c-2 [30.6 kB]\n",
            "Get:3 http://archive.ubuntu.com/ubuntu focal/universe amd64 gnuplot-data all 5.2.8+dfsg1-2 [56.5 kB]\n",
            "Get:4 http://archive.ubuntu.com/ubuntu focal/main amd64 liblua5.3-0 amd64 5.3.3-1.1ubuntu2 [116 kB]\n",
            "Get:5 http://archive.ubuntu.com/ubuntu focal/universe amd64 libwxbase3.0-0v5 amd64 3.0.4+dfsg-15build1 [982 kB]\n",
            "Get:6 http://archive.ubuntu.com/ubuntu focal/universe amd64 libwxgtk3.0-gtk3-0v5 amd64 3.0.4+dfsg-15build1 [4,359 kB]\n",
            "Get:7 http://archive.ubuntu.com/ubuntu focal/universe amd64 gnuplot-qt amd64 5.2.8+dfsg1-2 [1,034 kB]\n",
            "Get:8 http://archive.ubuntu.com/ubuntu focal/universe amd64 gnuplot all 5.2.8+dfsg1-2 [3,792 B]\n",
            "Fetched 6,713 kB in 2s (3,883 kB/s)\n",
            "Selecting previously unselected package libqt5svg5:amd64.\n",
            "(Reading database ... 129506 files and directories currently installed.)\n",
            "Preparing to unpack .../0-libqt5svg5_5.12.8-0ubuntu1_amd64.deb ...\n",
            "Unpacking libqt5svg5:amd64 (5.12.8-0ubuntu1) ...\n",
            "Selecting previously unselected package aglfn.\n",
            "Preparing to unpack .../1-aglfn_1.7+git20191031.4036a9c-2_all.deb ...\n",
            "Unpacking aglfn (1.7+git20191031.4036a9c-2) ...\n",
            "Selecting previously unselected package gnuplot-data.\n",
            "Preparing to unpack .../2-gnuplot-data_5.2.8+dfsg1-2_all.deb ...\n",
            "Unpacking gnuplot-data (5.2.8+dfsg1-2) ...\n",
            "Selecting previously unselected package liblua5.3-0:amd64.\n",
            "Preparing to unpack .../3-liblua5.3-0_5.3.3-1.1ubuntu2_amd64.deb ...\n",
            "Unpacking liblua5.3-0:amd64 (5.3.3-1.1ubuntu2) ...\n",
            "Selecting previously unselected package libwxbase3.0-0v5:amd64.\n",
            "Preparing to unpack .../4-libwxbase3.0-0v5_3.0.4+dfsg-15build1_amd64.deb ...\n",
            "Unpacking libwxbase3.0-0v5:amd64 (3.0.4+dfsg-15build1) ...\n",
            "Selecting previously unselected package libwxgtk3.0-gtk3-0v5:amd64.\n",
            "Preparing to unpack .../5-libwxgtk3.0-gtk3-0v5_3.0.4+dfsg-15build1_amd64.deb ...\n",
            "Unpacking libwxgtk3.0-gtk3-0v5:amd64 (3.0.4+dfsg-15build1) ...\n",
            "Selecting previously unselected package gnuplot-qt.\n",
            "Preparing to unpack .../6-gnuplot-qt_5.2.8+dfsg1-2_amd64.deb ...\n",
            "Unpacking gnuplot-qt (5.2.8+dfsg1-2) ...\n",
            "Selecting previously unselected package gnuplot.\n",
            "Preparing to unpack .../7-gnuplot_5.2.8+dfsg1-2_all.deb ...\n",
            "Unpacking gnuplot (5.2.8+dfsg1-2) ...\n",
            "Setting up libqt5svg5:amd64 (5.12.8-0ubuntu1) ...\n",
            "Setting up aglfn (1.7+git20191031.4036a9c-2) ...\n",
            "Setting up liblua5.3-0:amd64 (5.3.3-1.1ubuntu2) ...\n",
            "Setting up libwxbase3.0-0v5:amd64 (3.0.4+dfsg-15build1) ...\n",
            "Setting up gnuplot-data (5.2.8+dfsg1-2) ...\n",
            "Setting up libwxgtk3.0-gtk3-0v5:amd64 (3.0.4+dfsg-15build1) ...\n",
            "Setting up gnuplot-qt (5.2.8+dfsg1-2) ...\n",
            "update-alternatives: using /usr/bin/gnuplot-qt to provide /usr/bin/gnuplot (gnuplot) in auto mode\n",
            "Setting up gnuplot (5.2.8+dfsg1-2) ...\n",
            "Processing triggers for man-db (2.9.1-1) ...\n",
            "Processing triggers for libc-bin (2.31-0ubuntu9.9) ...\n",
            "Looking in indexes: https://pypi.org/simple, https://us-python.pkg.dev/colab-wheels/public/simple/\n",
            "Requirement already satisfied: matplotlib in /usr/local/lib/python3.8/dist-packages (3.2.2)\n",
            "Requirement already satisfied: kiwisolver>=1.0.1 in /usr/local/lib/python3.8/dist-packages (from matplotlib) (1.4.4)\n",
            "Requirement already satisfied: numpy>=1.11 in /usr/local/lib/python3.8/dist-packages (from matplotlib) (1.21.6)\n",
            "Requirement already satisfied: python-dateutil>=2.1 in /usr/local/lib/python3.8/dist-packages (from matplotlib) (2.8.2)\n",
            "Requirement already satisfied: cycler>=0.10 in /usr/local/lib/python3.8/dist-packages (from matplotlib) (0.11.0)\n",
            "Requirement already satisfied: pyparsing!=2.0.4,!=2.1.2,!=2.1.6,>=2.0.1 in /usr/local/lib/python3.8/dist-packages (from matplotlib) (3.0.9)\n",
            "Requirement already satisfied: six>=1.5 in /usr/local/lib/python3.8/dist-packages (from python-dateutil>=2.1->matplotlib) (1.15.0)\n"
          ]
        }
      ]
    },
    {
      "cell_type": "markdown",
      "source": [
        "# Poniższe programy liczą wynik całki 3 sposobami: Metoda prostokątów, trapezów oraz simpsona, każda z metod posiada program liczący ją za pomocą:\n",
        "# CPU - procesor \n",
        "# GPU - karta graficzna\n",
        "# Poznajmy podstawy które są zastosowane w programach !\n",
        "\n",
        "1. %%cu - pozwala na kompilowanie poniższych kodów CUDA w środowisku GoogleCollab\n",
        "2. W celu policzenia całki (ma to też wpływ na wynik im wiekszy przedział tym bardziej dokładny wynik) całkę dzielimy na przedziały, których ilość zawiera się w zmiennej 'N'\n",
        "3. Dzięki pętli wyliczamy wartość w konkrętnym miejscu funkcji (parametr i wyznacza to miejsce)\n",
        "4. Zmienna 'sum' jest sumą wartości funkcji, dzielimy ją przez liczbę N - liczba przedziałów \n",
        "5. Funkcja licz - służy do policzenia wartości pola pod całką\n",
        "6. Fukcja main to w niej wywołujemy fukcję oraz liczymy czas wykonania programu\n",
        "\n",
        "# Jak działają poszczególne metody?\n",
        "\n",
        "# Metoda Prostokątów:\n",
        "    Ta metoda wykorzystuję funkcję całkowania (fx) i wylicza jej wartość w danym punkcie\n",
        "# Metoda Trapezów:\n",
        "    Ta metoda działa analogicznie jednak posiada też zmienną 'następny', która liczy wartość w następnym punkcie czyli x + 1\n",
        "# Metoda Simpsona:\n",
        "    Działa analogicznie jak poprzednie jednak tutaj zmienna 'następny' liczy wartość w punkcie x + 2 czyli 2 dalej a 'środkowa' w punkcie x + 1\n",
        "\n",
        "\n",
        "\n",
        "# Skoro wiemy już jak to działa sprwadźmy czasy obliczeń na GPU i CPU !"
      ],
      "metadata": {
        "id": "J2i6zM67B7i5"
      }
    },
    {
      "cell_type": "markdown",
      "source": [
        "#CPU - Prostokąty"
      ],
      "metadata": {
        "id": "6QNBhH7jCE4t"
      }
    },
    {
      "cell_type": "code",
      "source": [
        "%%cu\n",
        "#include<stdio.h>\n",
        "#include<time.h>\n",
        "\n",
        "float dokladnosc(int N)\n",
        "{\n",
        "float sum = 0;\n",
        "for(int i = 0; i < N; ++i)\n",
        "{\n",
        "float x = (float) i / (float) N;\n",
        "float fx = (x*x+x+2);\n",
        "sum += fx;\n",
        "}\n",
        "sum *= 1.0f / (float)N;\n",
        "return sum;\n",
        "}\n",
        "int main(){\n",
        "    FILE *fp = fopen(\"prostokatcpu1000000.txt\", \"w\");\n",
        "    \n",
        "    clock_t start, stop;\n",
        "    float calka ; \n",
        "    start = clock();\n",
        "    calka =  dokladnosc(1000000);\n",
        "    stop = clock();\n",
        "    printf(\"wartość całki: %f\\n\", calka);\n",
        "    printf(\"czas wykonywania: %lf s\", (double)(stop - start) / CLOCKS_PER_SEC);\n",
        "    fprintf(fp, \"%f\\n\", (double)(stop - start) / CLOCKS_PER_SEC);\n",
        "    fclose(fp);\n",
        "    return 0 ;  \n",
        "}"
      ],
      "metadata": {
        "colab": {
          "base_uri": "https://localhost:8080/"
        },
        "id": "X7VlYtW-CB9I",
        "outputId": "21366405-c051-4f10-b8ce-3c2a26de9fc6"
      },
      "execution_count": 10,
      "outputs": [
        {
          "output_type": "stream",
          "name": "stdout",
          "text": [
            "wartość całki: 2.833451\n",
            "czas wykonywania: 0.015479 s\n"
          ]
        }
      ]
    },
    {
      "cell_type": "markdown",
      "source": [
        "# GPU - Prostokąty"
      ],
      "metadata": {
        "id": "IdpZKxM6Csyj"
      }
    },
    {
      "cell_type": "code",
      "source": [
        "%%cu\n",
        "#include <cuda_runtime.h>\n",
        "#include<stdio.h>\n",
        "__global__ void integratorKernel(float *a, int N)\n",
        "{\n",
        "int idx = blockIdx.x * blockDim.x + threadIdx.x;\n",
        "float x = (float)idx /(float)N;\n",
        "if(idx < N)\n",
        "a[idx] = (x*x+x+2);\n",
        "}\n",
        "float licz(int N)\n",
        "{\n",
        "size_t size = N * sizeof(float);\n",
        "float* a_h = (float *)malloc(size);\n",
        "float* a_d ; cudaMalloc((void **) &a_d, size);\n",
        "int block_size = 256;\n",
        "int n_blocks = N/block_size + (N % block_size == 0 ? 0:1);\n",
        "integratorKernel <<< n_blocks, block_size >>> (a_d, N);\n",
        "cudaMemcpy(a_h, a_d, sizeof(float)*N, cudaMemcpyDeviceToHost);\n",
        "float sum = 0;\n",
        "for (int i=0; i < N; i++) sum += a_h[i];\n",
        "sum *= 1.0 / (float)N;;\n",
        "free(a_h); cudaFree(a_d);\n",
        "return sum;\n",
        "}\n",
        "\n",
        "int main(void){\n",
        "    FILE *fp = fopen(\"prostokatgpu1000000.txt\", \"w\");\n",
        "    cudaEvent_t start, stop;\n",
        "    float x;\n",
        "    cudaEventCreate(&start);\n",
        "    cudaEventCreate(&stop);\n",
        "    cudaEventRecord(start, 0);\n",
        "    x = licz(1000000);\n",
        "    cudaEventRecord(stop, 0);\n",
        "    cudaEventSynchronize(stop);\n",
        "    float milliseconds = 0;\n",
        "    cudaEventElapsedTime(&milliseconds, start, stop);\n",
        "    float seconds = milliseconds / 1000;\n",
        "    printf(\"czas wykonywania: %lf s\\n\", seconds);\n",
        "    printf(\"wartość całki: %f\" , x) ;\n",
        "    fprintf(fp, \"%f\\n\", seconds);\n",
        "    fclose(fp);\n",
        "    cudaEventDestroy(start);\n",
        "    cudaEventDestroy(stop);\n",
        "    return 0 ; \n",
        "}"
      ],
      "metadata": {
        "colab": {
          "base_uri": "https://localhost:8080/"
        },
        "id": "t_nmDaO_CtjV",
        "outputId": "4e2c985c-f66d-4e6a-adfb-e4e7ff264d22"
      },
      "execution_count": 8,
      "outputs": [
        {
          "output_type": "stream",
          "name": "stdout",
          "text": [
            "czas wykonywania: 0.004408 s\n",
            "wartość całki: 2.833451\n"
          ]
        }
      ]
    },
    {
      "cell_type": "markdown",
      "source": [
        "# Każdy program został wywołany 4 razy w odpowiednim środowisku dla wartośći N kolejno : 1000,1000,100000,1000000 oraz został zapisany czas wykonywania programu dla danej wartości teraz sprawdźmy na wykresie jak to wygląda:\n",
        "\n",
        "# W celu zmiany środwiska -> środowisko wykonawcze -> zmień typ środowiska wykonawczego -> GPU \n",
        "\n",
        "#Ten krok jest jednakowy dla każdej metody!!!\n",
        "\n",
        "#Wykres:"
      ],
      "metadata": {
        "id": "d5dzLAOLE-b_"
      }
    },
    {
      "cell_type": "code",
      "source": [
        "import matplotlib.pyplot as plt\n",
        "czasgpu = [0.000307,0.000293,0.000820,0.004408]\n",
        "czascpu = [0.000016,0.000152,0.001566,0.015479]\n",
        "\n",
        "dokladnosc = [ 1000 ,10000 , 100000 , 1000000]\n",
        "\n",
        "plt.plot(dokladnosc,czasgpu, label=\"GPU\")\n",
        "plt.plot(dokladnosc,czascpu, label=\"CPU\")\n",
        "plt.xlabel(\"dokladnosc\")\n",
        "plt.ylabel(\"Czas wykonywania(s)\")\n",
        "plt.legend()\n",
        "plt.show()"
      ],
      "metadata": {
        "colab": {
          "base_uri": "https://localhost:8080/",
          "height": 280
        },
        "id": "RoDEvlmxFomX",
        "outputId": "8659c744-428e-46a3-9d30-f0256451e50b"
      },
      "execution_count": 11,
      "outputs": [
        {
          "output_type": "display_data",
          "data": {
            "text/plain": [
              "<Figure size 432x288 with 1 Axes>"
            ],
            "image/png": "[encoded data removed]"
          },
          "metadata": {
            "needs_background": "light"
          }
        }
      ]
    },
    {
      "cell_type": "markdown",
      "source": [
        "# CPU - trapezy"
      ],
      "metadata": {
        "id": "khs_Ez3MGUF6"
      }
    },
    {
      "cell_type": "code",
      "source": [
        "%%cu\n",
        "#include<time.h>\n",
        "#include<stdio.h>\n",
        "\n",
        "float dokladnosc(int N)\n",
        "{\n",
        "    float sum = 0;\n",
        "    for(int i = 0; i < N-1; ++i)\n",
        "    {\n",
        "        float x = (float)i/(float) N;\n",
        "        float nastepny = (float)(i+1)/(float) N;\n",
        "        float fx = (x*x+x+2);\n",
        "        float fx_nastepny = ((nastepny*nastepny+nastepny+2) );\n",
        "        sum += (fx + fx_nastepny)/2;\n",
        "    }\n",
        "    sum *= 1.0f / (float)N;\n",
        "    return sum;\n",
        "}\n",
        "int main(){\n",
        "    FILE *fp = fopen(\"trapezycpu1000000.txt\", \"w\");\n",
        "    clock_t start, stop;\n",
        "    float calka ; \n",
        "    start = clock();\n",
        "    calka = dokladnosc(1000000);\n",
        "    stop = clock();\n",
        "    printf(\"wartość całki: %f\\n\", calka);\n",
        "    printf(\"czas wykonywania: %lf s\", (double)(stop - start) / CLOCKS_PER_SEC);\n",
        "    fprintf(fp, \"%f\\n\", (double)(stop - start) / CLOCKS_PER_SEC);\n",
        "    fclose(fp);\n",
        "    return 0 ; \n",
        "}"
      ],
      "metadata": {
        "colab": {
          "base_uri": "https://localhost:8080/"
        },
        "id": "Mdl2TE_3Ga3u",
        "outputId": "9ac35c01-ec3a-445b-916c-66e3635ed869"
      },
      "execution_count": 16,
      "outputs": [
        {
          "output_type": "stream",
          "name": "stdout",
          "text": [
            "wartość całki: 2.833448\n",
            "czas wykonywania: 0.026865 s\n"
          ]
        }
      ]
    },
    {
      "cell_type": "markdown",
      "source": [
        "# GPU - trapezy"
      ],
      "metadata": {
        "id": "p-sGFurTGdTY"
      }
    },
    {
      "cell_type": "code",
      "source": [
        "%%cu \n",
        "#include<stdio.h>\n",
        "#include <cuda_runtime.h>\n",
        "__global__ void integratorKernel(float *a, int N, float h)\n",
        "{\n",
        "    int idx = blockIdx.x * blockDim.x + threadIdx.x;\n",
        "    float x = (float)idx / (float)N;\n",
        "    if(idx < N)\n",
        "    a[idx] = (x*x+x+2);\n",
        "}\n",
        "float licz(int N)\n",
        "{\n",
        "    size_t size = N * sizeof(float);\n",
        "    float* a_h = (float *)malloc(size);\n",
        "    float* a_d ; cudaMalloc((void **) &a_d, size);\n",
        "    int block_size = 256;\n",
        "    int n_blocks = N/block_size + (N % block_size == 0 ? 0:1);\n",
        "    float h = 1.0f / (float)N;\n",
        "    integratorKernel <<< n_blocks, block_size >>> (a_d, N, h);\n",
        "    cudaMemcpy(a_h, a_d, sizeof(float)*N, cudaMemcpyDeviceToHost);\n",
        "    float sum = (a_h[0] + a_h[N-1]) / 2.0f;\n",
        "    for (int i=1; i < N-1; i++) sum += a_h[i];\n",
        "    sum *= h;\n",
        "    free(a_h); cudaFree(a_d);\n",
        "    return sum;\n",
        "}\n",
        "int main(void){\n",
        "     FILE *fp = fopen(\"trapezygpu1000000.txt\", \"w\");\n",
        "     cudaEvent_t start, stop;\n",
        "     cudaEventCreate(&start); \n",
        "     cudaEventCreate(&stop);\n",
        "     cudaEventRecord(start, 0);\n",
        "     float x = licz(1000000);\n",
        "     cudaEventRecord(stop, 0);\n",
        "     cudaEventSynchronize(stop);\n",
        "     float milliseconds = 0;\n",
        "     cudaEventElapsedTime(&milliseconds, start, stop);\n",
        "     float seconds = milliseconds / 1000; \n",
        "     printf(\"czas wykonywania: %lf s\\n\", seconds);\n",
        "     printf(\"wartość całki: %f\" , x) ;\n",
        "     fprintf(fp, \"%f\\n\", seconds);\n",
        "     fclose(fp);\n",
        "     cudaEventDestroy(start);\n",
        "     cudaEventDestroy(stop); \n",
        "     \n",
        "     return 0 ; \n",
        "\n",
        "}"
      ],
      "metadata": {
        "colab": {
          "base_uri": "https://localhost:8080/"
        },
        "id": "4v8wT7pYGeu5",
        "outputId": "0704aa1f-2fca-4900-a9e6-ceb77a85f75c"
      },
      "execution_count": 7,
      "outputs": [
        {
          "output_type": "stream",
          "name": "stdout",
          "text": [
            "czas wykonywania: 0.004334 s\n",
            "wartość całki: 2.833448\n"
          ]
        }
      ]
    },
    {
      "cell_type": "markdown",
      "source": [
        "# Porównanie"
      ],
      "metadata": {
        "id": "2o6BKy0-Ggu2"
      }
    },
    {
      "cell_type": "code",
      "source": [
        "import matplotlib.pyplot as plt\n",
        "czasgpu = [0.000385,0.000253,0.000602,0.0043345]\n",
        "czascpu = [0.000027,0.000279,0.002717,0.026865]\n",
        "\n",
        "dokladnosc = [ 1000 ,10000 , 100000 , 1000000]\n",
        "\n",
        "plt.plot(dokladnosc,czasgpu, label=\"GPU\")\n",
        "plt.plot(dokladnosc,czascpu, label=\"CPU\")\n",
        "plt.xlabel(\"dokladnosc\")\n",
        "plt.ylabel(\"Czas wykonywania(s)\")\n",
        "plt.legend()\n",
        "plt.show()"
      ],
      "metadata": {
        "colab": {
          "base_uri": "https://localhost:8080/",
          "height": 279
        },
        "id": "pkfi3GmwGjQX",
        "outputId": "87bb8913-3863-4d6d-c994-31e8b448f5d4"
      },
      "execution_count": 14,
      "outputs": [
        {
          "output_type": "display_data",
          "data": {
            "text/plain": [
              "<Figure size 432x288 with 1 Axes>"
            ],
            "image/png": "[encoded data removed]"
          },
          "metadata": {
            "needs_background": "light"
          }
        }
      ]
    },
    {
      "cell_type": "markdown",
      "source": [
        "# CPU - Simpson"
      ],
      "metadata": {
        "id": "Pr4YNwHTGkFF"
      }
    },
    {
      "cell_type": "code",
      "source": [
        "%%cu\n",
        "#include<time.h>\n",
        "#include<stdio.h>\n",
        "float dokladnosc(int N)\n",
        "{\n",
        "    float sum = 0;\n",
        "    for(int i = 0; i < N-1; i+=1)\n",
        "    {\n",
        "        float x = (float)i/(float) N;\n",
        "        float srodkowy = (float)(i+1)/(float) N;\n",
        "        float nastepny = (float)(i+2)/(float) N;\n",
        "        float fx = (x*x+x+2);\n",
        "        float fx_srodkowy = (srodkowy*srodkowy+srodkowy+2);\n",
        "        float fx_nastepny = (nastepny*nastepny+nastepny+2);\n",
        "        sum +=(fx + 4*fx_srodkowy + fx_nastepny)/6;\n",
        "}\n",
        "sum *= 1.0f/(float)N;\n",
        "return sum;\n",
        "}\n",
        "\n",
        "int main(){\n",
        "    FILE *fp = fopen(\"simpsoncpu1000000.txt\", \"w\");\n",
        "    clock_t start, stop;\n",
        "    float calka ; \n",
        "    start = clock();\n",
        "    calka = dokladnosc(1000000);\n",
        "    stop = clock();\n",
        "    printf(\"wartość całki: %f\\n\", calka);\n",
        "    printf(\"czas wykonywania: %lf s\", (double)(stop - start) / CLOCKS_PER_SEC);\n",
        "    fprintf(fp, \"%f\\n\", (double)(stop - start) / CLOCKS_PER_SEC);\n",
        "    fclose(fp);\n",
        "return 0 ; \n",
        "}\n"
      ],
      "metadata": {
        "colab": {
          "base_uri": "https://localhost:8080/"
        },
        "id": "9YbILhCgGmCY",
        "outputId": "a3957958-3fbc-47cd-9cd2-f0cc8b3a9b63"
      },
      "execution_count": 20,
      "outputs": [
        {
          "output_type": "stream",
          "name": "stdout",
          "text": [
            "wartość całki: 2.833449\n",
            "czas wykonywania: 0.032390 s\n"
          ]
        }
      ]
    },
    {
      "cell_type": "markdown",
      "source": [
        "# GPU - Simpson"
      ],
      "metadata": {
        "id": "mCo2ZCIEGntA"
      }
    },
    {
      "cell_type": "code",
      "source": [
        "%%cu \n",
        "#include<stdio.h>\n",
        "#include <cuda_runtime.h>\n",
        "__global__ void integratorKernel(float *a, int N, float h)\n",
        "{\n",
        "    int idx = blockIdx.x * blockDim.x + threadIdx.x;\n",
        "    float x = (float)idx / (float)N;\n",
        "    if(idx < N)\n",
        "    a[idx] = (x*x+x+2);\n",
        "}\n",
        "float licz(int N)\n",
        "{\n",
        "    size_t size = N * sizeof(float);\n",
        "    float* a_h = (float *)malloc(size);\n",
        "    float* a_d ; cudaMalloc((void **) &a_d, size);\n",
        "    int block_size = 256;\n",
        "    int n_blocks = N/block_size + (N % block_size == 0 ? 0:1);\n",
        "    float h = 1.0f / (float)N;\n",
        "    integratorKernel <<< n_blocks, block_size >>> (a_d, N, h); \n",
        "    cudaMemcpy(a_h, a_d, sizeof(float)*N, cudaMemcpyDeviceToHost);\n",
        "    float sum = a_h[0] + a_h[N-1];\n",
        "    for (int i=1; i < N-1; i++)\n",
        "    {\n",
        "        if (i % 2 == 0)\n",
        "        sum += 2 * a_h[i];\n",
        "        else\n",
        "        sum += 4 * a_h[i];\n",
        "    }\n",
        "    sum *= h / 3.0f;\n",
        "    free(a_h); cudaFree(a_d);\n",
        "    return sum;\n",
        "}\n",
        "int main(void){\n",
        "    FILE *fp = fopen(\"simpsongpu1000000.txt\", \"w\");\n",
        "    cudaEvent_t start, stop;\n",
        "    cudaEventCreate(&start);\n",
        "    cudaEventCreate(&stop);\n",
        "    cudaEventRecord(start, 0);\n",
        "    float x = licz(1000000);\n",
        "    cudaEventRecord(stop, 0);\n",
        "    cudaEventSynchronize(stop);\n",
        "    float milliseconds = 0;\n",
        "    cudaEventElapsedTime(&milliseconds, start, stop);\n",
        "    float seconds = milliseconds / 1000;\n",
        "    printf(\"czas wykonywania: %f s\\n\", seconds);\n",
        "    printf(\"wartość całki: %f\" , x) ;\n",
        "    fprintf(fp, \"%f\\n\", seconds);\n",
        "    fclose(fp);\n",
        "    cudaEventDestroy(start);\n",
        "    cudaEventDestroy(stop);\n",
        "    return 0 ; \n",
        "\n",
        "}"
      ],
      "metadata": {
        "colab": {
          "base_uri": "https://localhost:8080/"
        },
        "id": "MhwJrwl1Gon1",
        "outputId": "ac5bddbe-9411-4608-ac74-faf3a2717297"
      },
      "execution_count": 11,
      "outputs": [
        {
          "output_type": "stream",
          "name": "stdout",
          "text": [
            "czas wykonywania: 0.004137 s\n",
            "wartość całki: 2.833904\n"
          ]
        }
      ]
    },
    {
      "cell_type": "markdown",
      "source": [
        "# Porównanie"
      ],
      "metadata": {
        "id": "Lty0FKgCGqIJ"
      }
    },
    {
      "cell_type": "code",
      "source": [
        "import matplotlib.pyplot as plt\n",
        "czasgpu = [0.000239,0.000253,0.000646,0.004137]\n",
        "czascpu = [0.000032,0.000320,0.003287,0.032390]\n",
        "\n",
        "dokladnosc = [ 1000 ,10000 , 100000 , 1000000]\n",
        "\n",
        "plt.plot(dokladnosc,czasgpu, label=\"GPU\")\n",
        "plt.plot(dokladnosc,czascpu, label=\"CPU\")\n",
        "plt.xlabel(\"dokladnosc\")\n",
        "plt.ylabel(\"Czas wykonywania(s)\")\n",
        "plt.legend()\n",
        "plt.show()"
      ],
      "metadata": {
        "colab": {
          "base_uri": "https://localhost:8080/",
          "height": 279
        },
        "id": "qcG7zeybGsqm",
        "outputId": "44bc44b6-43c5-48e6-c643-d887d5677992"
      },
      "execution_count": 12,
      "outputs": [
        {
          "output_type": "display_data",
          "data": {
            "text/plain": [
              "<Figure size 432x288 with 1 Axes>"
            ],
            "image/png": "[encoded data removed]"
          },
          "metadata": {
            "needs_background": "light"
          }
        }
      ]
    },
    {
      "cell_type": "markdown",
      "source": [
        "#Wnioski\n",
        "Jak możemy zauważyć na wykresach GPU jest znacznie szybsze niż CPU, szczególne różnice w czasach wykonywania możemy zaobserwować przy największych wartościach N możemy więc powiedzieć że CPU jest lepsze w prostych obliczeniach natomiast do tych bardziej skomplikowanych lepiej jest zastosować GPU"
      ],
      "metadata": {
        "id": "_CNFNnLMI-Zc"
      }
    }
  ]
}