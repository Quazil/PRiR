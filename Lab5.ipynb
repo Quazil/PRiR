{
  "cells": [
    {
      "cell_type": "code",
      "execution_count": null,
      "metadata": {
        "colab": {
          "base_uri": "https://localhost:8080/"
        },
        "id": "bT2ILvwu1FPw",
        "outputId": "3bf70198-40a4-4d61-dfa6-7520405f39f8"
      },
      "outputs": [],
      "source": [
        "!nvcc --version\n",
        "!pip install git+https://github.com/andreinechaev/nvcc4jupyter.git\n",
        "%load_ext nvcc_plugin"
      ]
    },
    {
      "attachments": {},
      "cell_type": "markdown",
      "metadata": {},
      "source": [
        "# obliczanie równoległe liczby PI z wzoru Leibniz-a"
      ]
    },
    {
      "attachments": {},
      "cell_type": "markdown",
      "metadata": {},
      "source": [
        "# Jak działa kod?\n",
        "Kod jest podzielony na dwie części, jedną część wykonuje główny proces (ranga 0), a drugą część wykonują pozostałe procesy.\n",
        "\n",
        "Główny proces odbiera wyniki obliczeń od innych procesów za pomocą MPI_Recv(), dodaje je i wyświetla wynik końcowy.\n",
        "\n",
        "Pozostałe procesy obliczają wartość Pi za pomocą formuły Leibniza i wysyłają wyniki z powrotem do głównego procesu za pomocą MPI_Send(). Także mierzą swój własny czas wykonania i wysyłają go z powrotem do głównego procesu. Główny proces następnie dodaje czasy wykonania ze wszystkich procesów i wyświetla całkowity czas wykonania.\n",
        "\n",
        "Funkcja potegowanie() oblicza potęgę liczby. Reszta kodu inicjalizuje MPI, pobiera rangę i rozmiar procesów i implementuje komunikację między procesami."
      ]
    },
    {
      "cell_type": "code",
      "execution_count": null,
      "metadata": {
        "colab": {
          "base_uri": "https://localhost:8080/"
        },
        "id": "4OcAW9I61Ra0",
        "outputId": "6f2f0510-652d-46f4-f821-52dab0e86c08"
      },
      "outputs": [],
      "source": [
        "%%sh\n",
        "cat > pi-mpi.c << EOF\n",
        "\n",
        "#include <mpi.h>\n",
        "#include <stdio.h>\n",
        "#include <time.h>\n",
        " \n",
        "// Funkcja do obliczania potęgi\n",
        "double potegowanie(double a , int b )\n",
        "{\n",
        "      double result=1.0;\n",
        "      for (int i = 1; i <= b; i++)\n",
        "      {\n",
        "          result *= a;\n",
        "      }\n",
        "      return result; \n",
        "}\n",
        "\n",
        "int main(int argc, char **argv)\n",
        "{\n",
        "    int rank; // Numer procesu\n",
        "    int size; // Liczba procesów\n",
        "    int tag = 1; // Zmienna oznaczająca tag dla każdej wiadomości przesłanej pomiędzy procesami\n",
        "    MPI_Status status; // Zmienna przechowująca informację o statusie wysłania lub odebrania wiadomości\n",
        "    MPI_Init(&argc, &argv); // Inicjalizacja MPI\n",
        "    MPI_Comm_rank(MPI_COMM_WORLD, &rank); // Pobieranie numeru procesu\n",
        "    MPI_Comm_size(MPI_COMM_WORLD, &size); // Pobieranie liczby procesów\n",
        "    clock_t t; // Zmienna przechowująca czas początkowy dla danego procesu\n",
        "    double time_taken; // Zmienna przechowująca czas wykonania danego procesu\n",
        "     // Jeśli jest to proces o numerze 0\n",
        "    if(rank == 0)\n",
        "    {\n",
        "      double lpi = 0 ,x = 0,total_time =0,t=0; // Zmienne przechowujące wynik dla każdego procesu oraz łączny czas wykonania\n",
        "        // Pętla, w której proces 0 odbiera wyniki od pozostałych procesów\n",
        "      for(int i=1; i<size; i++)\n",
        "      {\n",
        "        MPI_Recv(&x, 1, MPI_DOUBLE, i, tag, MPI_COMM_WORLD, &status); // Odebranie wyniku dla danego procesu\n",
        "        lpi +=x; // Dodanie wyniku do łącznego wyniku\n",
        "        MPI_Recv(&t, 1, MPI_DOUBLE, i, tag, MPI_COMM_WORLD, &status); // Odebranie informacji o czasie wykonania dla danego procesu\n",
        "        total_time+=t; // Dodanie czasu do łącznego czasu wykonywania\n",
        "      }\n",
        "      printf(\"Wartość liczby pi = %f \\n\", 4 * lpi);\n",
        "      printf(\"Całkowity czas wykonywania = %f \\n\", total_time);\n",
        "    }\n",
        "     // warunek sprawdzający czy proces jest głównym procesem. Jeśli tak, nie wykonuje dalszych operacji.\n",
        "    if(rank != 0)\n",
        "    {\n",
        "      t = clock(); // zmienna \"t\" jest ustawiana na bieżący czas systemowy, aby móc potem obliczyć czas wykonywania.\n",
        "      // Obliczanie wyniku dla danego procesu\n",
        "      double x = potegowanie( -1, rank - 1) / ( 2 * rank - 1);  // obliczenie wartości x jako wyniku wywołania funkcji \"potegowanie()\" dzielonego przez (2 * rank - 1).\n",
        "      printf(\"Wynik procesu %d = %f \\t\" , rank , x); // wypisanie na ekran wyniku dla danego procesu.\n",
        "      // wysłanie wyniku do głównego procesu 0 za pomocą funkcji MPI_Send()\n",
        "      MPI_Send(&x, 1, MPI_DOUBLE, 0, tag, MPI_COMM_WORLD);\n",
        "      t = clock() - t; // obliczenie czasu wykonywania poprzez odejmowanie bieżącego czasu od zmiennej \"t\".\n",
        "      time_taken = ((double)t)/CLOCKS_PER_SEC;\n",
        "      // Wysyłanie informacji o czasie wykonania do procesu 0\n",
        "      MPI_Send(&time_taken, 1, MPI_DOUBLE, 0, tag, MPI_COMM_WORLD);\n",
        "      printf(\"Czas wykonywania sie procesu %d = %f\\n\",rank,time_taken);\n",
        "    }\n",
        "    MPI_Finalize();\n",
        "}\n",
        "EOF\n",
        "mpicc pi-mpi.c && mpirun -n 60 --allow-run-as-root a.out"
      ]
    },
    {
      "attachments": {},
      "cell_type": "markdown",
      "metadata": {},
      "source": [
        "Ten kod jest implementacją algorytmu wyznaczania całki numerycznej funkcji kwadratowej za pomocą biblioteki MPI (Message Passing Interface). Zmienna \"rank\" przechowuje numer procesu, a zmienna \"size\" przechowuje liczbę procesów. Następnie, przy użyciu funkcji MPI_Init(), MPI_Comm_rank() i MPI_Comm_size() inicjalizowana jest biblioteka MPI i pobierane są numery procesów i liczba procesów. Zmienna \"h\" jest krokiem calkowania, a proces o numerze 0 jest głównym procesem i odbiera wyniki od pozostałych procesów. Pozostałe procesy wyznaczają wartość funkcji i wysyłają ją do głównego procesu, a następnie wyświetlają swój czas wykonania. Po zakończeniu wszystkich obliczeń, biblioteka MPI jest zakończona przy użyciu funkcji MPI_Finalize()."
      ]
    },
    {
      "cell_type": "code",
      "execution_count": null,
      "metadata": {
        "colab": {
          "base_uri": "https://localhost:8080/"
        },
        "id": "kX5EgFvE2bWI",
        "outputId": "2924f7da-1502-4daf-8823-32858e010c38"
      },
      "outputs": [],
      "source": [
        "%%sh\n",
        "cat > pi-mpi.c << EOF\n",
        "#include <mpi.h>\n",
        "#include <stdio.h>\n",
        "#include <time.h>\n",
        " \n",
        "// Funkcja, którą calkujemy\n",
        "double funkcja(double x)\n",
        "{\n",
        "  return (x * x + 2 * x + 3*x);\n",
        "}\n",
        "\n",
        "int main(int argc, char **argv)\n",
        "{\n",
        "  // Inicjalizacja zmiennych potrzebnych do obsługi MPI\n",
        "    int rank; // Numer procesu\n",
        "    int size; // Liczba procesów\n",
        "    int tag = 1; // Zmienna oznaczająca tag dla każdej wiadomości przesłanej pomiędzy procesami\n",
        "    \n",
        "    MPI_Status status; // Zmienna przechowująca status odebrania wiadomości\n",
        "    MPI_Init(&argc, &argv); // Inicjalizacja MPI\n",
        "    MPI_Comm_rank(MPI_COMM_WORLD, &rank); // Pobranie numeru procesu\n",
        "    MPI_Comm_size(MPI_COMM_WORLD, &size); // Pobranie liczby procesów\n",
        "    clock_t t; // Zmienna do mierzenia czasu\n",
        "    double time_taken; // Zmienna do przechowywania czasu wykonania procesu\n",
        "    // Zmienne do przechowywania liczby procesów i numeru procesu w formacie double\n",
        "    double numproc = size, nmbproc = rank;\n",
        "    // Granice calkowania\n",
        "    double lower = 1,upper = 4;\n",
        "    // Krok calkowania\n",
        "    double h = (upper - lower) / numproc;\n",
        "    // Proces o numerze 0 jest głównym procesem i odbiera wyniki od pozostałych procesów\n",
        "    if(rank == 0)\n",
        "    {\n",
        "      double calka = 0 ,x=0;\n",
        "      // Odbieranie wyników od pozostałych procesów\n",
        "      for(int i=1; i<size; i++)\n",
        "      {\n",
        "        MPI_Recv(&x, 1, MPI_DOUBLE, i, tag, MPI_COMM_WORLD, &status);\n",
        "        calka +=x;\n",
        "      }\n",
        "      // Wypisanie wyniku\n",
        "      printf(\"Wartosc dolnej granicy calki = %f \\n\",funkcja(lower)/2 * h);\n",
        "      printf(\"Wartosc gornej granicy calki = %f \\n\",funkcja(upper)/2 * h);\n",
        "\n",
        "      printf(\"Wartosc calki = %1f \\n\", h * (funkcja(lower)/2 + calka \n",
        "        + funkcja(upper)/2));\n",
        "    }\n",
        "    // Sprawdź czy numer procesu jest różny od 0 jeśli tak wywołaj funkcje\n",
        "    if(rank != 0)\n",
        "    {\n",
        "        t = clock(); \n",
        "        double xi,wynik;\n",
        "        nmbproc = rank; // numer procesu\n",
        "        xi = lower + (nmbproc/numproc)  \n",
        "            * (upper - lower);\n",
        "        wynik = funkcja(xi);\n",
        "        printf(\"Wynik  %d = %f \\t\", rank,wynik*h);\n",
        "        // Wynik jest wysyłany do procesu 0\n",
        "        MPI_Send(&wynik, 1, MPI_DOUBLE, 0, tag, MPI_COMM_WORLD);\n",
        "        t = clock() - t;\n",
        "        time_taken = ((double)t)/CLOCKS_PER_SEC;\n",
        "        printf(\"Czas wykonywania:  %d = %f\\n\",rank,time_taken);\n",
        "    }\n",
        "\n",
        "    MPI_Finalize();\n",
        "}\n",
        "EOF\n",
        "mpicc pi-mpi.c && mpirun -n 100 --allow-run-as-root a.out"
      ]
    }
  ],
  "metadata": {
    "colab": {
      "provenance": []
    },
    "kernelspec": {
      "display_name": "Python 3",
      "name": "python3"
    },
    "language_info": {
      "name": "python"
    }
  },
  "nbformat": 4,
  "nbformat_minor": 0
}
