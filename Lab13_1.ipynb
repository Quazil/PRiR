{
  "cells": [
    {
      "cell_type": "markdown",
      "metadata": {
        "id": "lO58BIDbFB5O"
      },
      "source": [
        "Sprawozdanie z zajęć nr 13\n",
        "Mateusz Stelmaszek\n",
        "80275"
      ]
    },
    {
      "cell_type": "markdown",
      "metadata": {
        "id": "14QITMUF-xwX"
      },
      "source": [
        "Aby zaimplementować program w Google Colab z wykorzystaniem PyTorch, należy najpierw zainstalować bibliotekę i skonfigurować środowisko."
      ]
    },
    {
      "cell_type": "code",
      "execution_count": 1,
      "metadata": {
        "colab": {
          "base_uri": "https://localhost:8080/"
        },
        "id": "SxiL6he7-roV",
        "outputId": "ad264175-d5b6-4705-d53d-99c287e32376"
      },
      "outputs": [
        {
          "name": "stdout",
          "output_type": "stream",
          "text": [
            "Looking in indexes: https://pypi.org/simple, https://us-python.pkg.dev/colab-wheels/public/simple/\n",
            "Requirement already satisfied: torch in /usr/local/lib/python3.8/dist-packages (1.13.1+cu116)\n",
            "Requirement already satisfied: torchvision in /usr/local/lib/python3.8/dist-packages (0.14.1+cu116)\n",
            "Requirement already satisfied: typing-extensions in /usr/local/lib/python3.8/dist-packages (from torch) (4.4.0)\n",
            "Requirement already satisfied: requests in /usr/local/lib/python3.8/dist-packages (from torchvision) (2.25.1)\n",
            "Requirement already satisfied: pillow!=8.3.*,>=5.3.0 in /usr/local/lib/python3.8/dist-packages (from torchvision) (7.1.2)\n",
            "Requirement already satisfied: numpy in /usr/local/lib/python3.8/dist-packages (from torchvision) (1.21.6)\n",
            "Requirement already satisfied: certifi>=2017.4.17 in /usr/local/lib/python3.8/dist-packages (from requests->torchvision) (2022.12.7)\n",
            "Requirement already satisfied: urllib3<1.27,>=1.21.1 in /usr/local/lib/python3.8/dist-packages (from requests->torchvision) (1.24.3)\n",
            "Requirement already satisfied: chardet<5,>=3.0.2 in /usr/local/lib/python3.8/dist-packages (from requests->torchvision) (4.0.0)\n",
            "Requirement already satisfied: idna<3,>=2.5 in /usr/local/lib/python3.8/dist-packages (from requests->torchvision) (2.10)\n"
          ]
        }
      ],
      "source": [
        "!pip install torch torchvision"
      ]
    },
    {
      "cell_type": "markdown",
      "metadata": {
        "id": "6iIxtKcp-0C2"
      },
      "source": [
        "Następnie należy zaimportować potrzebne biblioteki (import) i zdefiniować parametry dla algorytmu Monte Carlo, takie jak liczba losowanych punktów i promień okręgu (num_samples oraz radius)\n"
      ]
    },
    {
      "cell_type": "markdown",
      "metadata": {
        "id": "Kp9QJnmK-2b9"
      },
      "source": [
        "Aby obliczyć pole okręgu na CPU, można użyć funkcji torch.rand() do wygenerowania losowych punktów w kwadracie o boku równym dwa razy promień okręgu, a następnie policzyć ile z nich znajduje się wewnątrz okręgu.\n",
        "\n"
      ]
    },
    {
      "cell_type": "markdown",
      "metadata": {
        "id": "EkAhVKSKCAgb"
      },
      "source": [
        "#Opis programu:\n",
        "#1.Importowanie bibliotek PyTorch i Matplotlib.\n",
        "#2.Ustawienie liczby próbek (num_samples) i promienia okręgu (radius).\n",
        "#3.Tworzenie obiektów start i end, które będą używane do pomiaru czasu wykonywania kodu na GPU.\n",
        "#4.Rozpoczynanie pomiaru czasu za pomocą metody record() obiektu start.\n",
        "#5.Tworzenie tensora o wymiarach (num_samples, 2) z losowymi liczbami z zakresu (-radius, radius).\n",
        "#6.Obliczanie ilości punktów leżących wewnątrz koła za pomocą metody pow() i sum(), a następnie zamienianie tensora na liczbę za pomocą metody item().\n",
        "#7.Koniec pomiaru czasu za pomocą metody record() obiektu end.\n",
        "#8.Obliczanie czasu wykonywania kodu na GPU za pomocą metody elapsed_time() obiektu start.\n",
        "#9.Obliczanie pola okręgu za pomocą wzoru area = inside_circle / num_samples * 4 * radius ** 2.\n",
        "#10.Wypisanie pola okręgu i czasu wykonania na ekranie."
      ]
    },
    {
      "cell_type": "code",
      "execution_count": 4,
      "metadata": {
        "colab": {
          "base_uri": "https://localhost:8080/"
        },
        "id": "F4apzhAm-4NY",
        "outputId": "48bb8d95-1c8a-47b1-8c3b-6954829dad2d"
      },
      "outputs": [
        {
          "name": "stdout",
          "output_type": "stream",
          "text": [
            "Area of circle (CPU): 3.137312\n",
            "Time (CPU): 39.718910217285156\n"
          ]
        }
      ],
      "source": [
        "import torch\n",
        "import matplotlib.pyplot as plt\n",
        "num_samples = 1000000\n",
        "radius = 1\n",
        "\n",
        "start = torch.cuda.Event(enable_timing=True)\n",
        "end = torch.cuda.Event(enable_timing=True)\n",
        "\n",
        "start.record()\n",
        "\n",
        "samples = torch.rand(num_samples, 2) * 2 * radius - radius\n",
        "inside_circle = (samples.pow(2).sum(dim=1) < radius ** 2).sum().item()\n",
        "\n",
        "end.record()\n",
        "\n",
        "cpu_time = start.elapsed_time(end)\n",
        "\n",
        "area = inside_circle / num_samples * 4 * radius ** 2\n",
        "print('Wielkość koła):', area)\n",
        "print('czas wykonywania ):',cpu_time)"
      ]
    },
    {
      "cell_type": "markdown",
      "metadata": {
        "id": "vr66sIhe-5Yu"
      },
      "source": [
        "#Ten kod różni się od poprzedniego tym, że zmienne \"samples\" i \"inside_circle\" są przetwarzane na GPU za pomocą parametru \"device='cuda'\" przy tworzeniu tensorów."
      ]
    },
    {
      "cell_type": "code",
      "execution_count": 5,
      "metadata": {
        "colab": {
          "base_uri": "https://localhost:8080/"
        },
        "id": "wxQwdlvM-8Bf",
        "outputId": "e44ff615-06ef-4f21-dfaf-2be3c9b9d3ba"
      },
      "outputs": [
        {
          "name": "stdout",
          "output_type": "stream",
          "text": [
            "Area of circle (GPU): 3.138728\n",
            "Time (GPU): 3561.7001953125\n"
          ]
        }
      ],
      "source": [
        "import torch\n",
        "import matplotlib.pyplot as plt\n",
        "\n",
        "num_samples = 1000000\n",
        "radius = 1\n",
        "start.record()\n",
        "\n",
        "samples = torch.rand(num_samples, 2, device='cuda') * 2 * radius - radius\n",
        "inside_circle = (samples.pow(2).sum(dim=1) < radius ** 2).sum().item()\n",
        "\n",
        "end.record()\n",
        "\n",
        "gpu_time = start.elapsed_time(end)\n",
        "\n",
        "area = inside_circle / num_samples * 4 * radius ** 2\n",
        "print('Wielkość koła):', area)\n",
        "print('czas wykonywania ):',gpu_time)"
      ]
    },
    {
      "cell_type": "markdown",
      "metadata": {
        "id": "ac9sLy_---0z"
      },
      "source": [
        "Aby przedstawić różnice w czasie obliczeń dla CPU i GPU w zależności od rozmiaru problemu, tworzymy wykres z użyciem matplotlib."
      ]
    },
    {
      "cell_type": "code",
      "execution_count": 7,
      "metadata": {
        "colab": {
          "base_uri": "https://localhost:8080/",
          "height": 284
        },
        "id": "2Yh5UsvCDcH4",
        "outputId": "3d9ff8e1-c05e-4e88-80b8-7c5086f5e0a6"
      },
      "outputs": [
        {
          "data": {
            "image/png": "[encoded data removed]",
            "text/plain": [
              "<Figure size 432x288 with 1 Axes>"
            ]
          },
          "metadata": {
            "needs_background": "light"
          },
          "output_type": "display_data"
        }
      ],
      "source": [
        "sizes = [10**i for i in range(3,8)]\n",
        "cpu_times = []\n",
        "gpu_times = []\n",
        "\n",
        "for size in sizes:\n",
        "    num_samples = size\n",
        "    start.record()\n",
        "    samples = torch.rand(num_samples, 2) * 2 * radius - radius\n",
        "    inside_circle = (samples.pow(2).sum(dim=1) < radius ** 2).sum().item()\n",
        "    end.record()\n",
        "    cpu_times.append(start.elapsed_time(end))\n",
        "\n",
        "    start.record()\n",
        "    samples = torch.rand(num_samples, 2, device='cuda') * 2 * radius - radius\n",
        "    inside_circle = (samples.pow(2).sum(dim=1) < radius ** 2).sum().item()\n",
        "    end.record()\n",
        "    gpu_times.append(start.elapsed_time(end))\n",
        "\n",
        "plt.plot(sizes, cpu_times, '-o', label='CPU')\n",
        "plt.plot(sizes, gpu_times, '-o', label='GPU')\n",
        "plt.xscale('log')\n",
        "plt.xlabel('liczba próbek')\n",
        "plt.ylabel('czas (ms)')\n",
        "plt.legend()\n",
        "plt.show()"
      ]
    }
  ],
  "metadata": {
    "accelerator": "GPU",
    "colab": {
      "provenance": []
    },
    "gpuClass": "standard",
    "kernelspec": {
      "display_name": "Python 3",
      "name": "python3"
    },
    "language_info": {
      "name": "python"
    }
  },
  "nbformat": 4,
  "nbformat_minor": 0
}
