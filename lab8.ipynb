{
  "nbformat": 4,
  "nbformat_minor": 0,
  "metadata": {
    "colab": {
      "provenance": []
    },
    "kernelspec": {
      "name": "python3",
      "display_name": "Python 3"
    },
    "language_info": {
      "name": "python"
    },
    "gpuClass": "standard"
  },
  "cells": [
    {
      "cell_type": "markdown",
      "source": [
        "# Sprawozdanie z zajęć nr 10\n",
        "### Mateusz Stelmaszek\n",
        "### 80275"
      ],
      "metadata": {
        "id": "GOpzvBj80bGf"
      }
    },
    {
      "cell_type": "markdown",
      "source": [
        "# Przygotowujemy środowisko !"
      ],
      "metadata": {
        "id": "zirSdz920dvH"
      }
    },
    {
      "cell_type": "code",
      "source": [
        "!nvcc --version\n",
        "!pip install git+https://github.com/andreinechaev/nvcc4jupyter.git\n",
        "%load_ext nvcc_plugin"
      ],
      "metadata": {
        "colab": {
          "base_uri": "https://localhost:8080/"
        },
        "id": "xoYo032m0gt5",
        "outputId": "98f05836-29f2-433a-bd6e-9aeae07ae35d"
      },
      "execution_count": 6,
      "outputs": [
        {
          "output_type": "stream",
          "name": "stdout",
          "text": [
            "nvcc: NVIDIA (R) Cuda compiler driver\n",
            "Copyright (c) 2005-2021 NVIDIA Corporation\n",
            "Built on Sun_Feb_14_21:12:58_PST_2021\n",
            "Cuda compilation tools, release 11.2, V11.2.152\n",
            "Build cuda_11.2.r11.2/compiler.29618528_0\n",
            "Looking in indexes: https://pypi.org/simple, https://us-python.pkg.dev/colab-wheels/public/simple/\n",
            "Collecting git+https://github.com/andreinechaev/nvcc4jupyter.git\n",
            "  Cloning https://github.com/andreinechaev/nvcc4jupyter.git to /tmp/pip-req-build-pej2ycfp\n",
            "  Running command git clone --filter=blob:none --quiet https://github.com/andreinechaev/nvcc4jupyter.git /tmp/pip-req-build-pej2ycfp\n",
            "  Resolved https://github.com/andreinechaev/nvcc4jupyter.git to commit aac710a35f52bb78ab34d2e52517237941399eff\n",
            "  Preparing metadata (setup.py) ... \u001b[?25l\u001b[?25hdone\n",
            "The nvcc_plugin extension is already loaded. To reload it, use:\n",
            "  %reload_ext nvcc_plugin\n"
          ]
        }
      ]
    },
    {
      "cell_type": "markdown",
      "source": [
        "# Należy pamiętać, aby podczas kompilowania kodu GPU zmienić środowisko!\n",
        "    Środowisko wykonawcze -> Zmień typ środowiska wykonawczego -> GPU"
      ],
      "metadata": {
        "id": "qbPWWFWV0iY1"
      }
    },
    {
      "cell_type": "markdown",
      "source": [
        "# Poniżej 2 kody działające odpowiednio na CPU oraz GPU które generują fraktal oraz plik .jpg pozwalający go odpalić\n",
        "# CPU - procesor \n",
        "# GPU - karta graficzna\n",
        "# Poznajmy podstawy które są zastosowane w programach !\n",
        "\n",
        "1. %%cu - pozwala na kompilowanie poniższych kodów CUDA w środowisku GoogleCollab\n",
        "2. cuComplex to struktura która poprzez przeciążanie operatorów '*' oraz '+' mnoży oraz dodaje wyimaginowane liczby\n",
        "3. Funkcja mandelbrot 2 to funkcja typu boolean zwraca tylko 2 wartości '0' lub '1' w zależności od tego czy punkt znajduje się w zbiorze mandelbrota\n",
        "4. Dzięki funkcji kernel liczby wartość pikseli poprzez iteracje\n",
        "5. offset - przenoszenie wartości RGB (kolory)\n",
        "6. Fukcja main to w niej wywołujemy fukcję oraz liczymy czas wykonania programu\n",
        "# do programu GPU warto dodać że x i y zmiennej blockldx to indeksy bloku o wymiarach x,y i pozwalają nam na identyfikacje bloku wątków i obliczenie jego położenia w siatce"
      ],
      "metadata": {
        "id": "RNP7XXPv0j-j"
      }
    },
    {
      "cell_type": "markdown",
      "source": [
        "# CPU"
      ],
      "metadata": {
        "id": "IF_5dkEv0mtq"
      }
    },
    {
      "cell_type": "code",
      "execution_count": 5,
      "metadata": {
        "colab": {
          "base_uri": "https://localhost:8080/"
        },
        "id": "Rr-G77Qr0SPX",
        "outputId": "349bc263-3fab-4042-c6cc-468fdd4cf0cc"
      },
      "outputs": [
        {
          "output_type": "stream",
          "name": "stdout",
          "text": [
            "milliseconds 40128.995000 \n",
            "\n"
          ]
        }
      ],
      "source": [
        "%%cu\n",
        "#include<stdio.h>\n",
        "#include <time.h>\n",
        "#define DIM 5000\n",
        "struct cuComplex {\n",
        "    float   r;\n",
        "    float   i;\n",
        "    cuComplex( float a, float b ) : r(a), i(b)  {}\n",
        "    float magnitude2( void ) { return r * r + i * i; }\n",
        "    cuComplex operator*(const cuComplex& a) {\n",
        "        return cuComplex(r*a.r - i*a.i, i*a.r + r*a.i);\n",
        "    }\n",
        "    cuComplex operator+(const cuComplex& a) {\n",
        "        return cuComplex(r+a.r, i+a.i);\n",
        "    }\n",
        "};\n",
        "int mandel(double x, double y) {\n",
        "    const float scale = 1.5;\n",
        "    float jx = scale * (float)(DIM/2 - x)/(DIM/2);\n",
        "    float jy = scale * (float)(DIM/2 - y)/(DIM/2);\n",
        "    cuComplex c(jx, jy);\n",
        "    cuComplex z(0, 0);\n",
        "    for (int i = 0; i < 200; i++) {\n",
        "    z = z * z + c;\n",
        "      if (z.magnitude2() > 1000) {\n",
        "        return 0;\n",
        "    }\n",
        "  }\n",
        "  return 1;\n",
        "}\n",
        "void kernel( unsigned char *ptr ){\n",
        "    for (int y=0; y<DIM; y++) {\n",
        "        for (int x=0; x<DIM; x++) {\n",
        "            int offset = x + y * DIM;\n",
        "            int mandelbrotValue = mandel( x, y );\n",
        "            ptr[offset*4 + 0] = 19;\n",
        "            ptr[offset*4 + 1] = 255 * mandelbrotValue ;\n",
        "            ptr[offset*4 + 2] = 72;\n",
        "            ptr[offset*4 + 3] = 200;\n",
        "        }\n",
        "    }\n",
        " }\n",
        "struct DataBlock{\n",
        "    unsigned char *dev_bitmap; \n",
        "};\n",
        "void save_to_file(unsigned char *ptr){\n",
        "  FILE *fp=fopen(\"MandelbrotCPU.ppm\",\"w\");\n",
        "  fprintf(fp,\"P3\\n%d %d\\n255\\n\", DIM, DIM);\n",
        "  for(int y=0;y<DIM;y++){\n",
        "    for(int x=0;x<DIM;x++){\n",
        "      int offset=x+y*DIM;\n",
        "      fprintf(fp,\"\\n%d %d %d\", ptr[offset*4+0], ptr[offset*4+1], ptr[offset*4+2]);\n",
        "    }\n",
        "  }\n",
        "  fclose(fp);\n",
        "}\n",
        "int main( void ) {\n",
        "    FILE *fp = fopen(\"mandelcpu5000.txt\", \"w\");\n",
        "    clock_t start_time = clock();\n",
        "    DataBlock data ; \n",
        "    unsigned char *bitmap = (unsigned char*)malloc(DIM*DIM*4*sizeof(unsigned char));\n",
        "    int image_size = DIM * DIM * 4 ;\n",
        "    kernel(bitmap);\n",
        "    save_to_file(bitmap);\n",
        "    clock_t end_time = clock();\n",
        "    double elapsed_time = (double)(end_time - start_time) / CLOCKS_PER_SEC * 1000;\n",
        "    printf(\"milliseconds %f \\n\", elapsed_time);\n",
        "    long milliseconds = elapsed_time ; \n",
        "    long seconds = milliseconds / 1000.0;\n",
        "    fprintf(fp, \"%f\\n\", seconds);\n",
        "    fclose(fp);\n",
        "    return 0;\n",
        "\n",
        "}"
      ]
    },
    {
      "cell_type": "markdown",
      "source": [
        "#GPU (Trzeba zmienić środowisko!)"
      ],
      "metadata": {
        "id": "30Jbr7qR13Xb"
      }
    },
    {
      "cell_type": "code",
      "source": [
        "%%cu\n",
        "#include<stdio.h>\n",
        "#define DIM 5000\n",
        "#include <cuda_runtime.h>\n",
        "struct cuComplex {\n",
        "    float   r;\n",
        "    float   i;\n",
        "    // cuComplex( float a, float b ) : r(a), i(b)  {}\n",
        "    __device__ cuComplex( float a, float b ) : r(a), i(b) {}\n",
        "    __device__ float magnitude2( void ) {\n",
        "        return r * r + i * i;\n",
        "    }\n",
        "    __device__ cuComplex operator*(const cuComplex& a) {\n",
        "        return cuComplex(r*a.r - i*a.i, i*a.r + r*a.i);\n",
        "    }\n",
        "    __device__ cuComplex operator+(const cuComplex& a) {\n",
        "        return cuComplex(r+a.r, i+a.i);\n",
        "    }\n",
        "};\n",
        "__device__ int mandel(double x, double y) {\n",
        "    const float scale = 1.5;\n",
        "    float jx = scale * (float)(DIM/2 - x)/(DIM/2);\n",
        "    float jy = scale * (float)(DIM/2 - y)/(DIM/2);\n",
        "    cuComplex c(jx, jy);\n",
        "    cuComplex z(0, 0);\n",
        "    for (int i = 0; i < 200; i++) {\n",
        "    z = z * z + c;\n",
        "      if (z.magnitude2() > 1000) {\n",
        "        return 0;\n",
        "    }\n",
        "  }\n",
        "  return 1;\n",
        "}\n",
        "__global__ void kernel( unsigned char *ptr ) {\n",
        "    int x = blockIdx.x;\n",
        "    int y = blockIdx.y;\n",
        "    int offset = x + y * gridDim.x;\n",
        "    int man =  mandel( x, y );\n",
        "    ptr[offset*4 + 0] = 150;\n",
        "    ptr[offset*4 + 1] = 220;\n",
        "    ptr[offset*4 + 2] = 177 * man;\n",
        "    ptr[offset*4 + 3] = 12;\n",
        "}\n",
        "struct DataBlock {\n",
        "    unsigned char   *dev_bitmap;\n",
        "};\n",
        "void save_to_file(unsigned char *ptr){\n",
        "  FILE *fp=fopen(\"MandelbrotGPU.ppm\",\"w\");\n",
        "  fprintf(fp,\"P3\\n%d %d\\n255\\n\", DIM, DIM);\n",
        "  for(int y=0;y<DIM;y++){\n",
        "    for(int x=0;x<DIM;x++){\n",
        "      int offset=x+y*DIM;\n",
        "      fprintf(fp,\"\\n%d %d %d\", ptr[offset*4+0], ptr[offset*4+1], ptr[offset*4+2]);\n",
        "    }\n",
        "  }\n",
        "  fclose(fp);\n",
        "}\n",
        "int main( void ) {\n",
        "    FILE *fp = fopen(\"mandelgpu5000.txt\", \"w\");\n",
        "    cudaEvent_t start, end;\n",
        "    cudaEventCreate(&start);\n",
        "    cudaEventCreate(&end);\n",
        "    cudaEventRecord(start, 0);\n",
        "    DataBlock data ; \n",
        "    unsigned char *bitmap = (unsigned char*)malloc(DIM*DIM*4*sizeof(unsigned char));\n",
        "    int image_size = DIM * DIM * 4 ;\n",
        "    unsigned char *dev_bitmap;\n",
        "    cudaMalloc((void**)&dev_bitmap,image_size);\n",
        "    data.dev_bitmap = dev_bitmap ;\n",
        "    dim3 grid(DIM,DIM);\n",
        "    kernel<<<grid,1>>>(dev_bitmap);\n",
        "    cudaMemcpy(bitmap,dev_bitmap,image_size,cudaMemcpyDeviceToHost) ;   \n",
        "    cudaFree(dev_bitmap);\n",
        "    save_to_file(bitmap);\n",
        "    cudaEventRecord(end, 0);\n",
        "    cudaEventSynchronize(end);\n",
        "    float elapsed_time;\n",
        "    cudaEventElapsedTime(&elapsed_time, start, end);\n",
        "    printf(\"czas wykonywania: %f milliseconds\\n\", elapsed_time);\n",
        "    fprintf(fp, \"%f\\n\", elapsed_time);\n",
        "    fclose(fp);\n",
        "    cudaEventDestroy(start);\n",
        "    cudaEventDestroy(end);\n",
        "\n",
        "\n",
        "}"
      ],
      "metadata": {
        "colab": {
          "base_uri": "https://localhost:8080/"
        },
        "id": "6DA_l5qZ17cz",
        "outputId": "e577969d-f380-4b55-be49-a5ad5ab4103f"
      },
      "execution_count": 6,
      "outputs": [
        {
          "output_type": "stream",
          "name": "stdout",
          "text": [
            "czas wykonywania: 4080.088623 milliseconds\n",
            "\n"
          ]
        }
      ]
    },
    {
      "cell_type": "markdown",
      "source": [
        "# Porównanie"
      ],
      "metadata": {
        "id": "8oi9o3mQ2979"
      }
    },
    {
      "cell_type": "code",
      "source": [
        "import matplotlib.pyplot as plt\n",
        "czasgpu = [153.596100,652.561523,4080.088623]\n",
        "czascpu = [1608.207000,6451.048000,40128.995000 ]\n",
        "DIM = [ 1000 , 2000 , 5000 ]\n",
        "\n",
        "plt.plot(DIM,czasgpu, label=\"GPU\")\n",
        "plt.plot(DIM,czascpu, label=\"CPU\")\n",
        "plt.xlabel(\"DIM\")\n",
        "plt.ylabel(\"Czas wykonywania(ms)\")\n",
        "plt.legend()\n",
        "plt.show()"
      ],
      "metadata": {
        "colab": {
          "base_uri": "https://localhost:8080/",
          "height": 279
        },
        "id": "By7_7hO52_0q",
        "outputId": "241144c9-d13d-4614-eb3e-2e0626c7c389"
      },
      "execution_count": 7,
      "outputs": [
        {
          "output_type": "display_data",
          "data": {
            "text/plain": [
              "<Figure size 432x288 with 1 Axes>"
            ],
            "image/png": "[encoded data removed]"
          },
          "metadata": {
            "needs_background": "light"
          }
        }
      ]
    }
  ]
}